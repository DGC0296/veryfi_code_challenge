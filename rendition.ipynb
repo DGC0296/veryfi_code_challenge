{
 "cells": [
  {
   "cell_type": "markdown",
   "metadata": {},
   "source": [
    "# Understanding and loading the inputs\n",
    "In order to come up with a solution to the proposed challenge, we begin with an analysis of the input OCRs to understand how they are structured. Each JSON contains a key `pages` that holds an array, and each object within it contains a key `fullTextAnnotation` with an attribute `text` where a plain version of the text extracted resides. We proceed to create a class to better represent a single input JSON and a function to parse it into a more manageable format."
   ]
  },
  {
   "cell_type": "markdown",
   "metadata": {},
   "source": [
    "Now we test the custom class against the input OCR files located in the `./ocr` folder."
   ]
  },
  {
   "cell_type": "code",
   "execution_count": 1,
   "metadata": {},
   "outputs": [],
   "source": [
    "import json\n",
    "from glob import glob\n",
    "from src.classes import OCR\n",
    "\n",
    "ocrs = glob(\"ocr/*.json\")\n",
    "\n",
    "object_ocrs = []\n",
    "for ocr in ocrs:\n",
    "    with open(ocr, 'r') as text_ocr:\n",
    "        json_ocr = json.loads(text_ocr.read())\n",
    "        object_ocr = OCR(json_ocr)\n",
    "        object_ocrs.append(object_ocr)"
   ]
  },
  {
   "cell_type": "markdown",
   "metadata": {},
   "source": [
    "When we print the first ticket:"
   ]
  },
  {
   "cell_type": "code",
   "execution_count": 2,
   "metadata": {},
   "outputs": [
    {
     "name": "stdout",
     "output_type": "stream",
     "text": [
      "\"CENCOSUD COLOMBIA S.A. NIT 900.155.107-1\\nGRAN CONTRIBUYENTE SEGUN RESOLUCION\\nDIAN No.009061 DE DICIEMBRE 10 DE 2020\\nAUTORRETENEDOR IMPUESTO SOBRE LA RENTA\\nRESOLUCION DIAN No. 12688 NOV 23 DE 2009\\nRESPONSABLE DE IVA\\nDE\\nAGENTE RETENEDOR DE IVA\\nJUMBO CALLE 80\\nAVENIDA CALLE 80 No 69Q- 50 TEL:6387000\\nVENDEDOR ELECTRO\\n$\\n27990 N\\n7990 A\\n7990 A\\n8990\\n2650 N\\nA\\n8410270241140 Aceite oliva SU\\n7707322030489 Quinua QUINOACL\\n7707322030489 Quinua QUINOACL\\n8004690751060 Cous cous LA MO\\n7702247011056 YOGURT LIQUIDO\\n8410971033785 Aceitunas EXCEL\\n7707298470074 Tallarines BEST\\n7702085003497 Quinua molida D\\n7705326077837 Tortillinas BIM\\n7702253800002 Maiz pira TOT-R\\nSUBTOTAL\\nN\\n3490\\n8790 A\\n8690 A\\n5990 N\\n3590\\nSUBTOTAL.\\nNRO. CUENTA ********1289//138515\\nVISA CR CUOTAS: 1\\nVISA\\nITEMS COMPRADOS: 10\\nIVA - TARIFA ---- BASE. -\\nIMPTO\\nA\\n5%\\n40429\\n2021\\n3590\\nO\\nEXCL\\n19%\\nN\\n33714\\n6406\\n========\\nTOTAL\\n77733\\n8427\\nF= BIENES EXENTOS-DECRETO 417-17/MAR/2020\\nICBP = IMPUESTO AL CONSUMO BOLSAS\\nPLASTICAS (LEY1819/16)\\nG=0% IMPUESTO AL CONSUMO POR SERVICIO\\nEXPENDIO DE COMIDAS BEBIDAS(Art9Dec682/20)\\nCAMBIOS Y/O DEVOLUCIONES 8 DIAS CALENDAR\\nCONSULTAR CONDICIONES Y RESTRI. MODULO\\nSERV. AL CLIENTE. GRACIAS POR SU VISITA\\nNegro A4168B\\nRINCON MIGUEL\\nST#11 RG#22 CG#RM TR#21770\\nRESOL. FACTURA SISTEMA POS\\n18763002765366//17/12/2019\\nVIGENCIA: 24 MESES\\nPREF. J122 199933 A 99999999\\nTIQUETE J122 249302\\n02:06 PM\\n86160\\n86160\\n86160\\n10/12/2021\"\n"
     ]
    }
   ],
   "source": [
    "print(object_ocrs[0])"
   ]
  },
  {
   "attachments": {},
   "cell_type": "markdown",
   "metadata": {},
   "source": [
    "# Field extraction\n",
    "Next is finding the patterns necessary to extract each of the desired output fields."
   ]
  },
  {
   "cell_type": "code",
   "execution_count": 3,
   "metadata": {},
   "outputs": [],
   "source": [
    "test_subject = object_ocrs[1]  # Ticket 1"
   ]
  },
  {
   "cell_type": "markdown",
   "metadata": {},
   "source": [
    "## Date\n",
    "This value can be found towards the end of the receipt, preceded by a timestamp and in a `DD/MM/YYYY` format. The following regex pattern is suggested:  \n",
    "\n",
    "`(?<=[01][0-9]:[0-5]\\d).*(([0-2]|(3))(?(3)[01]|\\d)/(0|(1)(?(5)[0-2]|[09]))/(1|(2))(?(7)0|9)(?(7)[0-3]|[7-9])\\d)`  \n",
    "\n",
    "A positive lookbehind is used to match the format of the timestamp (considering the value constraints for the format used - 00:00 AM/PM), then any other characters between that and the date pattern are ignored, and lastly the date match is captured with a group. The pattern used to match the date also considers reasonable value constraints, with dates ranging from `1970` to `2039`."
   ]
  },
  {
   "cell_type": "code",
   "execution_count": 4,
   "metadata": {},
   "outputs": [
    {
     "data": {
      "text/plain": [
       "'04/11/2021'"
      ]
     },
     "execution_count": 4,
     "metadata": {},
     "output_type": "execute_result"
    }
   ],
   "source": [
    "test_subject.set_date()\n",
    "test_subject.date"
   ]
  },
  {
   "cell_type": "markdown",
   "metadata": {},
   "source": [
    "## Store address\n",
    "This value can be found after the keyword `JUMBO`, which is used as an anchor in a joint manner with the keyphrase `VENDEDOR ELECTRO` to extract it. The suggested regex pattern is:  \n",
    "\n",
    "`(?<=JUMBO).*[^\\n]((.*\\s)*)(?=VENDEDOR ELECTRO)`\n",
    "\n",
    "A positive lookbehind is used to find the keyword, the following non-newline characters are ignored (which correspond to the name of the store), and then every character and space are captured with a group.  \n",
    "\n",
    "_Note_: This pattern causes a backtracking issue if it's ran against the annotation in full, which is why a slicing approach is taken in which the pattern is applied only in the region comprehended by the first match for the keyword `JUMBO` and the next 10 lines."
   ]
  },
  {
   "cell_type": "code",
   "execution_count": 5,
   "metadata": {},
   "outputs": [
    {
     "data": {
      "text/plain": [
       "'CARRERA 98 No 16-50'"
      ]
     },
     "execution_count": 5,
     "metadata": {},
     "output_type": "execute_result"
    }
   ],
   "source": [
    "test_subject.set_store_address()\n",
    "test_subject.store_address"
   ]
  },
  {
   "cell_type": "markdown",
   "metadata": {},
   "source": [
    "## Invoice number\n",
    "Assuming that the ticket number located at the bottom - `J\\d{3} \\d{6}` is the invoice number, the following pattern is used to retrieve it:  \n",
    "\n",
    "`(?<=TIQUETE)\\s?(J\\d{3})\\s?(?=(\\d{6}))`\n",
    "\n",
    "In this pattern we look for the keyword `TIQUETE`, then match and capture a pattern `J\\d{3}`, and lastly we search for a positive lookahead of the pattern `\\d{6}` and also capture it. The invoice number is then returned as a formatted string of the captured groups 1 and 2."
   ]
  },
  {
   "cell_type": "code",
   "execution_count": 6,
   "metadata": {},
   "outputs": [
    {
     "data": {
      "text/plain": [
       "'J212 341304'"
      ]
     },
     "execution_count": 6,
     "metadata": {},
     "output_type": "execute_result"
    }
   ],
   "source": [
    "test_subject.set_invoice_number()\n",
    "test_subject.invoice_number"
   ]
  },
  {
   "attachments": {},
   "cell_type": "markdown",
   "metadata": {},
   "source": [
    "## Subtotal\n",
    "A general pattern to extract this value was not found at the time of solving the challenge. A mathematical approach of finding it based on the extracted values is:  \n",
    "\n",
    "`SUBTOTAL = SUM(LINE_ITEMS_TOTALS)`\n",
    "\n",
    "The code implementation of this calculation falls beyond the scope of the challenge."
   ]
  },
  {
   "attachments": {},
   "cell_type": "markdown",
   "metadata": {},
   "source": [
    "## Total\n",
    "A general pattern to extract this value was not found at the time of solving the challenge. As with the Subtotal, a mathematical approach of finding it based on the extracted values could be implemented if a pattern to extract the value for each tax code is built and used. Considering that this calculation is beyond the scope of the challenge, neither the code to do it or extract the amounts (%) for the tax codes is implemented."
   ]
  },
  {
   "cell_type": "markdown",
   "metadata": {},
   "source": [
    "## Line items\n",
    "To extract the information for each line item we generate a slice of the annotation between the keywords `VENDEDOR ELECTRO` and `NRO. CUENTA`, the pattern defined to extract each attribute will then be run against it."
   ]
  },
  {
   "cell_type": "markdown",
   "metadata": {},
   "source": [
    "### SKU and Description\n",
    "Each line item starts with its `SKU` and a `description`. The pattern suggested to retrieve them is:  \n",
    "\n",
    "`(\\d{13})\\s?((\\w*[^\\n])*)`\n",
    "\n",
    "This pattern matches and captures a 13 digit number to retrieve the `SKU`, then matches and captures combinations of non-newline characters and spaces to retrieve the description."
   ]
  },
  {
   "cell_type": "code",
   "execution_count": 7,
   "metadata": {
    "scrolled": true
   },
   "outputs": [
    {
     "data": {
      "text/plain": [
       "[{'sku': '7702406000150', 'description': 'Azucar refinado'},\n",
       " {'sku': '7702406000150', 'description': 'Azucar refinado'},\n",
       " {'sku': '7702406000150', 'description': 'Azucar refinado'},\n",
       " {'sku': '7702406000150', 'description': 'Azucar refinado'},\n",
       " {'sku': '7702020212052', 'description': 'DONAREPA PERLAD'},\n",
       " {'sku': '7702020212052', 'description': 'DONAREPA PERLAD'},\n",
       " {'sku': '7705491102020', 'description': 'PANELA EXTRA RE'},\n",
       " {'sku': '7705491102020', 'description': 'PANELA EXTRA RE'},\n",
       " {'sku': '7702026020507', 'description': 'Servilleta FAMI'},\n",
       " {'sku': '7702010225123', 'description': 'FABULOSO LAVAND'},\n",
       " {'sku': '7701018005089', 'description': 'ACEITE OLEOCALI'},\n",
       " {'sku': '7500435126823', 'description': 'Shampoo H&S lim'},\n",
       " {'sku': '7622201772840', 'description': 'Gelatina ROYAL'},\n",
       " {'sku': '7509546672557', 'description': 'Desodorante SPE'},\n",
       " {'sku': '7702026193003', 'description': 'Papel hig. FAMIL'}]"
      ]
     },
     "execution_count": 7,
     "metadata": {},
     "output_type": "execute_result"
    }
   ],
   "source": [
    "test_subject.set_line_items_SKU_and_description()\n",
    "test_subject.line_items"
   ]
  },
  {
   "cell_type": "markdown",
   "metadata": {},
   "source": [
    "### Tax code\n",
    "To retrieve this value we start by detecting possible tax codes based on: the frequency in which they appear, and their presence within the taxes description after the taxation table. The pattern to achieve this is:  \n",
    "\n",
    "`(((?<=\\d\\s)|(?<!.))([A-Z])\\n)|(([A-Z])(?=\\=))`\n",
    "\n",
    "Where we check for single capital letters that either are preceded by a digit and a space, or are the only character on a line. To retrieve the tax codes that are explicitly mentioned within the receipt, we match single capital letters followed by an equal sign."
   ]
  },
  {
   "attachments": {},
   "cell_type": "markdown",
   "metadata": {},
   "source": [
    "### Total\n",
    "By using the known tax codes retrieved before, we can delimit the slice of the annotation which is most likely to hold the list of totals for each line item. The step by step procedure is:  \n",
    "- Look for any amounts that match the pattern `^(\\d*\\s)(?=([TAX_CODE])$)`.\n",
    "- Find the index for both the first match top to bottom and the first match bottom to top.\n",
    "- Within the slice delimited by those indexes, capture any other feasible amount even if it doesn't have a tax code.\n",
    "- To check for coherence on the codeless added amounts, traverse the array comparing with the modulo operator.\n",
    "- If the length of the resulting list equals the amount of SKUs retrieved, match the elements checking that the uniqueness across both lists is preserved."
   ]
  },
  {
   "cell_type": "code",
   "execution_count": 8,
   "metadata": {},
   "outputs": [
    {
     "data": {
      "text/plain": [
       "[{'sku': '7702406000150',\n",
       "  'description': 'Azucar refinado',\n",
       "  'total': 8590,\n",
       "  'tax_code': 'A'},\n",
       " {'sku': '7702406000150',\n",
       "  'description': 'Azucar refinado',\n",
       "  'total': 8590,\n",
       "  'tax_code': 'A'},\n",
       " {'sku': '7702406000150',\n",
       "  'description': 'Azucar refinado',\n",
       "  'total': 8590,\n",
       "  'tax_code': 'A'},\n",
       " {'sku': '7702406000150',\n",
       "  'description': 'Azucar refinado',\n",
       "  'total': 8590,\n",
       "  'tax_code': 'A'},\n",
       " {'sku': '7702020212052',\n",
       "  'description': 'DONAREPA PERLAD',\n",
       "  'total': 3690,\n",
       "  'tax_code': 'A'},\n",
       " {'sku': '7702020212052',\n",
       "  'description': 'DONAREPA PERLAD',\n",
       "  'total': 3690,\n",
       "  'tax_code': 'A'},\n",
       " {'sku': '7705491102020',\n",
       "  'description': 'PANELA EXTRA RE',\n",
       "  'total': 4390,\n",
       "  'tax_code': None},\n",
       " {'sku': '7705491102020',\n",
       "  'description': 'PANELA EXTRA RE',\n",
       "  'total': 4390,\n",
       "  'tax_code': None},\n",
       " {'sku': '7702026020507',\n",
       "  'description': 'Servilleta FAMI',\n",
       "  'total': 6590,\n",
       "  'tax_code': 'N'},\n",
       " {'sku': '7702010225123',\n",
       "  'description': 'FABULOSO LAVAND',\n",
       "  'total': 6590,\n",
       "  'tax_code': 'F'},\n",
       " {'sku': '7701018005089',\n",
       "  'description': 'ACEITE OLEOCALI',\n",
       "  'total': 48790,\n",
       "  'tax_code': 'N'},\n",
       " {'sku': '7500435126823',\n",
       "  'description': 'Shampoo H&S lim',\n",
       "  'total': 27990,\n",
       "  'tax_code': 'N'},\n",
       " {'sku': '7622201772840',\n",
       "  'description': 'Gelatina ROYAL',\n",
       "  'total': 3890,\n",
       "  'tax_code': 'N'},\n",
       " {'sku': '7509546672557',\n",
       "  'description': 'Desodorante SPE',\n",
       "  'total': 33990,\n",
       "  'tax_code': 'N'},\n",
       " {'sku': '7702026193003',\n",
       "  'description': 'Papel hig. FAMIL',\n",
       "  'total': 28990,\n",
       "  'tax_code': 'N'}]"
      ]
     },
     "execution_count": 8,
     "metadata": {},
     "output_type": "execute_result"
    }
   ],
   "source": [
    "test_subject.set_line_items_tax_codes_and_totals()\n",
    "test_subject.line_items"
   ]
  }
 ],
 "metadata": {
  "kernelspec": {
   "display_name": "Python 3 (ipykernel)",
   "language": "python",
   "name": "python3"
  },
  "language_info": {
   "codemirror_mode": {
    "name": "ipython",
    "version": 3
   },
   "file_extension": ".py",
   "mimetype": "text/x-python",
   "name": "python",
   "nbconvert_exporter": "python",
   "pygments_lexer": "ipython3",
   "version": "3.11.1"
  },
  "vscode": {
   "interpreter": {
    "hash": "5435d81205fddf81ccaf30e8482fc736e5c9df5e04726e8c723154a7c25f7124"
   }
  }
 },
 "nbformat": 4,
 "nbformat_minor": 2
}
